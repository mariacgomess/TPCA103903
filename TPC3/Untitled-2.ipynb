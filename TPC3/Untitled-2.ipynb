{
 "cells": [
  {
   "cell_type": "markdown",
   "metadata": {},
   "source": [
    "## TPC3: Adivinha o número!?\n",
    "\n",
    "Desenvolve em Python o código necessário para o jogo do Adivinha o número: \n",
    "* O jogo deverá ter dois modos: o computador tenta acertar no número que o jogador pensou ou, o jogador tenta acertar no número que o computador pensou; \n",
    "* No fim, o programa deverá indicar quantas tentativas foram realizadas para chegar ao resultado;\n",
    "* O Jogo: \n",
    "    - o utilizador pensa num número entre 0 e 100;\n",
    "    - o computador tenta adivinhar indicando um número do intervalo;\n",
    "    - o utilizador indica se o número em que pensou é **maior**, **menor**, ou se o computador **acertou**;\n",
    "    - ao terminar, o programa imprime o número de tentativas que o computador teve de fazer até chegar ao número.\n",
    "\n",
    "Que conclusão podes tirar sobre o número de tentativas necessárias para um número entre 0 e 100? E se fosse entre 0 e 1000?"
   ]
  },
  {
   "cell_type": "code",
   "execution_count": 1,
   "metadata": {},
   "outputs": [
    {
     "name": "stdout",
     "output_type": "stream",
     "text": [
      "pense num número entre 0 e 100\n",
      "tenativas 5\n"
     ]
    }
   ],
   "source": [
    "#Adivinhar o número entre 0 e 100\n",
    "print (\"pense num número entre 0 e 100\")\n",
    "sup = int (0)\n",
    "inf = int (100)\n",
    "t=0 \n",
    "número = str()\n",
    "acertou = str (\"acertou\")\n",
    "while número != str(acertou) :\n",
    "    t=t+1\n",
    "    x=int((sup + inf)/2)\n",
    "    número= (input (x))\n",
    "    if número == \"maior\":\n",
    "        sup =x \n",
    "    else:\n",
    "        inf =x\n",
    "print (\"tenativas\", str(t))"
   ]
  },
  {
   "cell_type": "code",
   "execution_count": 2,
   "metadata": {},
   "outputs": [
    {
     "name": "stdout",
     "output_type": "stream",
     "text": [
      "pense num número entre 0 e 1000\n",
      "tenativas 8\n"
     ]
    }
   ],
   "source": [
    "#Adivinhar o número entre 0 e 1000\n",
    "print (\"pense num número entre 0 e 1000\")\n",
    "sup = int (0)\n",
    "inf = int (1000)\n",
    "t=0 \n",
    "número = str()\n",
    "acertou = str (\"acertou\")\n",
    "while número != str(acertou) :\n",
    "    t=t+1\n",
    "    x=int((sup + inf)/2)\n",
    "    número= (input (x))\n",
    "    if número == \"maior\":\n",
    "        sup =x \n",
    "    else:\n",
    "        inf =x\n",
    "print (\"tenativas\", str(t))"
   ]
  },
  {
   "cell_type": "code",
   "execution_count": 3,
   "metadata": {},
   "outputs": [
    {
     "name": "stdout",
     "output_type": "stream",
     "text": [
      "75\n",
      "maior\n",
      "menor\n",
      "menor\n",
      "maior\n",
      "maior\n",
      "acertou! tentivas 6\n"
     ]
    }
   ],
   "source": [
    "import random\n",
    "d = random.randrange (1, 100) \n",
    "print (d)\n",
    "n = 1\n",
    "x = int(input (\"adivinhe o número\"))\n",
    "while d != x:\n",
    "    n=n+1\n",
    "    if d > x:\n",
    "        print (\"maior\") \n",
    "    else :\n",
    "        print (\"menor\")\n",
    "    x = int(input (\"adivinhe o número\"))\n",
    "print (\"acertou! tentivas\", str (n))"
   ]
  }
 ],
 "metadata": {
  "kernelspec": {
   "display_name": "Python 3",
   "language": "python",
   "name": "python3"
  },
  "language_info": {
   "codemirror_mode": {
    "name": "ipython",
    "version": 3
   },
   "file_extension": ".py",
   "mimetype": "text/x-python",
   "name": "python",
   "nbconvert_exporter": "python",
   "pygments_lexer": "ipython3",
   "version": "3.11.5"
  },
  "orig_nbformat": 4
 },
 "nbformat": 4,
 "nbformat_minor": 2
}
