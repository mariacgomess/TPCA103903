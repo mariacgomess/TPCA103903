{
 "cells": [
  {
   "cell_type": "markdown",
   "metadata": {},
   "source": [
    "## TPC8: Teste de aferição\n",
    "\n",
    "Resolva os problemas apresentados a seguir."
   ]
  },
  {
   "cell_type": "markdown",
   "metadata": {},
   "source": [
    "### tpc-1. Especifique as seguintes listas em compreensão:"
   ]
  },
  {
   "cell_type": "markdown",
   "metadata": {},
   "source": [
    "#### a) Lista formada pelos elementos que não são comuns às duas listas:"
   ]
  },
  {
   "cell_type": "code",
   "execution_count": 1,
   "metadata": {},
   "outputs": [
    {
     "name": "stdout",
     "output_type": "stream",
     "text": [
      "[1, 2, 3, 6, 7, 8]\n"
     ]
    }
   ],
   "source": [
    "lista1 = [1, 2, 3, 4, 5]\n",
    "lista2 = [4, 5, 6, 7, 8]  \n",
    "comuns = []\n",
    "for n in lista1:\n",
    "    if n not in lista2:\n",
    "        comuns.append(n)\n",
    "for m in lista2:\n",
    "    if m not in lista1:\n",
    "        comuns.append(m)\n",
    "print (comuns)\n",
    "\n",
    "# Resultado esperado: [1,2,3,5,7,8]???"
   ]
  },
  {
   "cell_type": "markdown",
   "metadata": {},
   "source": [
    "#### b) Lista formada pelas palavras do texto compostas por mais de 3 letras:"
   ]
  },
  {
   "cell_type": "code",
   "execution_count": 1,
   "metadata": {},
   "outputs": [
    {
     "data": {
      "text/plain": [
       "[' Vivia',\n",
       " ' poucos',\n",
       " ' anos',\n",
       " ' algures',\n",
       " ' concelho',\n",
       " ' Ribatejo',\n",
       " ' pequeno',\n",
       " ' lavrador',\n",
       " ' negociante',\n",
       " ' gado',\n",
       " ' chamado',\n",
       " ' Manuel',\n",
       " ' Peres']"
      ]
     },
     "execution_count": 1,
     "metadata": {},
     "output_type": "execute_result"
    }
   ],
   "source": [
    "texto = \"\"\"Vivia há já não poucos anos algures num concelho do Ribatejo \n",
    "    um pequeno lavrador e negociante de gado chamado Manuel Peres Vigário\"\"\"\n",
    "\n",
    "def palavras_3(texto):\n",
    "    lista = []\n",
    "    contagem = 0\n",
    "    palavra=\" \"\n",
    "    for c in texto:\n",
    "        if c != \" \":\n",
    "            contagem=contagem+1\n",
    "            palavra=palavra + c\n",
    "        else:\n",
    "            if contagem > 3:\n",
    "                lista.append(palavra)\n",
    "                contagem=0\n",
    "                palavra= \" \"\n",
    "            else:\n",
    "                contagem=0\n",
    "                palavra= \" \"\n",
    "    return lista\n",
    "\n",
    "palavras_3(texto)\n",
    "\n",
    "    \n",
    "\n",
    "\n",
    "# Resultado esperado: ['Vivia', 'poucos', 'anos', 'algures', 'concelho', ...]"
   ]
  },
  {
   "cell_type": "markdown",
   "metadata": {},
   "source": [
    "#### c) Lista formada por pares do tipo (índice, valor) com os valores da lista dada:"
   ]
  },
  {
   "cell_type": "code",
   "execution_count": 5,
   "metadata": {},
   "outputs": [
    {
     "data": {
      "text/plain": [
       "[(1, 'anaconda'), (2, 'burro'), (3, 'cavalo'), (4, 'macaco')]"
      ]
     },
     "execution_count": 5,
     "metadata": {},
     "output_type": "execute_result"
    }
   ],
   "source": [
    "lista = ['anaconda', 'burro', 'cavalo', 'macaco']\n",
    "listaRes = []\n",
    "def indicevalor(lista):\n",
    "    i=1\n",
    "    for nome in lista:\n",
    "        par= i, nome\n",
    "        listaRes.append(par)\n",
    "        i=i+1\n",
    "    return listaRes\n",
    "indicevalor(lista)\n",
    "# Resultado esperado: [(1,'anaconda'), (2,'burro'), (3,'cavalo'), (4,'macaco')]"
   ]
  },
  {
   "cell_type": "markdown",
   "metadata": {},
   "source": [
    "### tpc-2. À semelhança do que foi feito nas aulas, realize as seguintes tarefas:"
   ]
  },
  {
   "cell_type": "markdown",
   "metadata": {},
   "source": [
    "#### a) Especifique uma função que dada uma string e uma substring não vazia, calcula  o número de vezes em que a substring aparece na string, sem que haja sobreposição de substrings:"
   ]
  },
  {
   "cell_type": "code",
   "execution_count": 50,
   "metadata": {},
   "outputs": [
    {
     "data": {
      "text/plain": [
       "2"
      ]
     },
     "execution_count": 50,
     "metadata": {},
     "output_type": "execute_result"
    }
   ],
   "source": [
    "def strCount(s, subs):\n",
    "    n=0\n",
    "    ocorrencia=0\n",
    "    while n < (len(s)-(len(subs)-1)):\n",
    "        if s[n:n+3]==subs:\n",
    "            ocorrencia=ocorrencia+1\n",
    "        n=n+1\n",
    "    return ocorrencia\n",
    "\n",
    "strCount(\"catcowcat\", \"cat\") # --> 2\n",
    "#strCount(\"catcowcat\", \"cow\") # --> 1\n",
    "#strCount(\"catcowcat\", \"dog\") # --> 0"
   ]
  },
  {
   "cell_type": "markdown",
   "metadata": {},
   "source": [
    "#### b) Especifique uma função que recebe uma lista de números inteiros positivos e devolve o menor produto que for possível calcular multiplicando os 3 menores inteiros da lista:"
   ]
  },
  {
   "cell_type": "code",
   "execution_count": 21,
   "metadata": {},
   "outputs": [
    {
     "name": "stdout",
     "output_type": "stream",
     "text": [
      "168\n"
     ]
    }
   ],
   "source": [
    "def produtoM3(lista):\n",
    "    lista.sort()\n",
    "    produto=(lista[0] * lista[1] * lista[2])\n",
    "\n",
    "    return  produto\n",
    "\n",
    "print(produtoM3([12,3,7,10,12,8,9]))\n",
    "# Resultado esperado: 168 = 3 * 7 * 8"
   ]
  },
  {
   "cell_type": "markdown",
   "metadata": {},
   "source": [
    "#### c) Especifique uma função que dado um número inteiro positivo, repetidamente adiciona os seus dígitos até obter apenas um dígito que é retornado como resultado:"
   ]
  },
  {
   "cell_type": "code",
   "execution_count": 33,
   "metadata": {},
   "outputs": [
    {
     "data": {
      "text/plain": [
       "9"
      ]
     },
     "execution_count": 33,
     "metadata": {},
     "output_type": "execute_result"
    }
   ],
   "source": [
    "# Input: 38\n",
    "# Output: 2\n",
    "# Explicação: 3 + 8 = 11, 1 + 1 = 2.\n",
    "\n",
    "# Input: 777\n",
    "# Output: 3\n",
    "# Explicação: 7 + 7 + 7 = 21, 2 + 1 = 3.\n",
    "\n",
    "def reduxInt(n):\n",
    "    while len(str(n))>1:\n",
    "        res=0\n",
    "        for c in str(n):\n",
    "            res=res+ int(c)\n",
    "        n=res\n",
    "\n",
    "    return res\n",
    "\n",
    "reduxInt(459)"
   ]
  },
  {
   "cell_type": "markdown",
   "metadata": {},
   "source": [
    "#### d) Especifique uma função que recebe duas strings, `string1` e `string2`, e devolve o índice da primeira ocorrência de `string2` em `string1`, caso não ocorra nenhuma vez a função deverá retornar `-1`:"
   ]
  },
  {
   "cell_type": "code",
   "execution_count": 55,
   "metadata": {},
   "outputs": [
    {
     "data": {
      "text/plain": [
       "-1"
      ]
     },
     "execution_count": 55,
     "metadata": {},
     "output_type": "execute_result"
    }
   ],
   "source": [
    "# Invocação: indexOf(\"Hoje está um belo dia de sol!\", \"belo\")\n",
    "# Resultado: 13\n",
    "\n",
    "# Invocação: indexOf(\"Hoje está um belo dia de sol!\", \"chuva\")\n",
    "# Resultado: -1\n",
    "\n",
    "def myIndexOf(s1, s2):\n",
    "    n=0\n",
    "    valor = False\n",
    "    while (len(s1)-len(s2))>n:\n",
    "        if s1[n:(n+(len(s2)))] == s2:\n",
    "            valor = True\n",
    "            m=n\n",
    "        n=n+1\n",
    "\n",
    "    if valor==True:\n",
    "        return m\n",
    "    else:\n",
    "        return -1 \n",
    "\n",
    "#myIndexOf(\"Hoje está um belo dia de sol!\", \"belo\")\n",
    "myIndexOf(\"Hoje está um belo dia de sol!\", \"chuva\")"
   ]
  },
  {
   "cell_type": "markdown",
   "metadata": {},
   "source": [
    "### tpc-3. A Rede Social\n",
    "\n",
    "Considere que a informação sobre uma rede social está armazenada numa lista de dicionários.\n",
    "\n",
    "Cada dicionário, correspondente a um _post_ e tem chaves `id`, `conteudo`, `autor`, `dataCriacao` e `comentarios`.\n",
    "Por sua vez, `comentarios` é uma lista de dicionários com chaves `comentario` e `autor`.\n",
    "\n",
    "Considere o seguinte exemplo:\n",
    "\n",
    "``` \n",
    "    MyFaceBook = [{\n",
    "        'id': 'p1', \n",
    "        'conteudo': 'A tarefa de avaliação é talvez a mais ingrata das tarefas que um professor\n",
    "    tem de realizar...', \n",
    "        'autor': 'jcr', \n",
    "        'dataCriacao': '2023-07-20', \n",
    "        'comentarios': [\n",
    "            {\n",
    "                'comentario': 'Completamente de acordo...',\n",
    "                'autor': 'prh'\n",
    "            },\n",
    "            {\n",
    "                'comentario': 'Mas há quem goste...',\n",
    "                'autor': 'jj'\n",
    "            }\n",
    "        ]},\n",
    "        {\n",
    "            'id': 'p2',\n",
    "            ...\n",
    "        },\n",
    "        ...\n",
    "        ]\n",
    "```"
   ]
  },
  {
   "cell_type": "markdown",
   "metadata": {},
   "source": [
    "Defina as seguintes funções de manipulação e consulta da rede social:"
   ]
  },
  {
   "cell_type": "code",
   "execution_count": 136,
   "metadata": {},
   "outputs": [],
   "source": [
    "MyFaceBook = [{'id': 'p1', \n",
    "        'conteudo': 'A tarefa de avaliação é talvez a mais ingrata das tarefas que um professortem de realizar...', \n",
    "        'autor': 'jcr', \n",
    "        'dataCriacao': '2023-07-20', \n",
    "        'comentarios': [{'comentario': 'Completamente de acordo...', 'autor': 'prh'}, {'comentario': 'Mas há quem goste...','autor': 'jj'}]},\n",
    "        {'id': 'p2', \n",
    "        'conteudo': 'A tarefa de avaliação é talvez a mais ingrata das tarefas que um professortem de realizar...', \n",
    "        'autor': 'aa', \n",
    "        'dataCriacao': '2023-07-20', \n",
    "        'comentarios': [{'comentario': 'Conordo...', 'autor': 'jcr'}, {'comentario': 'Mas há quem goste...','autor': 'phr'}]},\n",
    "        {'id': 'p3', \n",
    "        'conteudo': 'A tarefa de avaliação é talvez a mais ingrata das tarefas que um professortem de realizar...', \n",
    "        'autor': 'jcr', \n",
    "        'dataCriacao': '2023-07-20', \n",
    "        'comentarios': [{'comentario': 'Completamente de acordo...', 'autor': 'aa'}, {'comentario': 'Há quem goste...','autor': 'jj'}]}]"
   ]
  },
  {
   "cell_type": "markdown",
   "metadata": {},
   "source": [
    "#### a) `quantosPost`, que indica quantos posts estão registados:"
   ]
  },
  {
   "cell_type": "code",
   "execution_count": 85,
   "metadata": {},
   "outputs": [
    {
     "name": "stdout",
     "output_type": "stream",
     "text": [
      "3\n"
     ]
    }
   ],
   "source": [
    "def quantosPost(redeSocial):\n",
    "    n=0\n",
    "    for id in redeSocial:\n",
    "        n=n+1\n",
    "    \n",
    "    return n\n",
    "\n",
    "print(quantosPost(MyFaceBook))"
   ]
  },
  {
   "cell_type": "markdown",
   "metadata": {},
   "source": [
    "#### b)  `postsAutor`, que devolve a lista de posts de um determinado autor:"
   ]
  },
  {
   "cell_type": "code",
   "execution_count": 90,
   "metadata": {},
   "outputs": [
    {
     "name": "stdout",
     "output_type": "stream",
     "text": [
      "[{'id': 'p1', 'conteudo': 'A tarefa de avaliação é talvez a mais ingrata das tarefas que um professortem de realizar...', 'autor': 'jcr', 'dataCriacao': '2023-07-20', 'comentarios': [{'comentario': 'Completamente de acordo...', 'autor': 'prh'}, {'comentario': 'Mas há quem goste...', 'autor': 'jj'}]}, {'id': 'p3', 'conteudo': 'A tarefa de avaliação é talvez a mais ingrata das tarefas que um professortem de realizar...', 'autor': 'jcr', 'dataCriacao': '2023-07-20', 'comentarios': [{'comentario': 'Completamente de acordo...', 'autor': 'aa'}, {'comentario': 'Há quem goste...', 'autor': 'jj'}]}]\n"
     ]
    }
   ],
   "source": [
    "def postsAutor(redeSocial, autor):\n",
    "    posts=[]\n",
    "    for post in redeSocial:\n",
    "        if post[\"autor\"]==autor:  \n",
    "            posts.append(post)\n",
    "    return posts\n",
    "\n",
    "print(postsAutor(MyFaceBook, \"jcr\"))"
   ]
  },
  {
   "cell_type": "markdown",
   "metadata": {},
   "source": [
    "#### c) `autores`, que devolve a lista de autores de posts ordenada alfabeticamente:"
   ]
  },
  {
   "cell_type": "code",
   "execution_count": 94,
   "metadata": {},
   "outputs": [
    {
     "name": "stdout",
     "output_type": "stream",
     "text": [
      "['aa', 'jcr']\n"
     ]
    }
   ],
   "source": [
    "def autores(redeSocial):\n",
    "    autores=[]\n",
    "    for post in redeSocial:\n",
    "        if post[\"autor\"] not in autores:\n",
    "            autores.append(post[\"autor\"])\n",
    "    autores.sort()\n",
    "    return autores\n",
    "print(autores(MyFaceBook))"
   ]
  },
  {
   "cell_type": "markdown",
   "metadata": {},
   "source": [
    "#### d) `insPost`, que acrescenta um novo post à rede social a partir dos parâmetros recebidos e devolve a nova rede social. \n",
    "    \n",
    "O campo `id` devrá ser calculado a partir dos já existentes, por exemplo, se a rede tiver posts com id `p1`, `p2` e `p3`, o novo `id` deverá ser `p4`."
   ]
  },
  {
   "cell_type": "code",
   "execution_count": 95,
   "metadata": {},
   "outputs": [
    {
     "name": "stdout",
     "output_type": "stream",
     "text": [
      "[{'id': 'p1', 'conteudo': 'A tarefa de avaliação é talvez a mais ingrata das tarefas que um professortem de realizar...', 'autor': 'jcr', 'dataCriacao': '2023-07-20', 'comentarios': [{'comentario': 'Completamente de acordo...', 'autor': 'prh'}, {'comentario': 'Mas há quem goste...', 'autor': 'jj'}]}, {'id': 'p2', 'conteudo': 'A tarefa de avaliação é talvez a mais ingrata das tarefas que um professortem de realizar...', 'autor': 'aa', 'dataCriacao': '2023-07-20', 'comentarios': [{'comentario': 'Conordo...', 'autor': 'jcr'}, {'comentario': 'Mas há quem goste...', 'autor': 'phr'}]}, {'id': 'p3', 'conteudo': 'A tarefa de avaliação é talvez a mais ingrata das tarefas que um professortem de realizar...', 'autor': 'jcr', 'dataCriacao': '2023-07-20', 'comentarios': [{'comentario': 'Completamente de acordo...', 'autor': 'aa'}, {'comentario': 'Há quem goste...', 'autor': 'jj'}]}, {'id': 'p4', 'conteudo': 'Tenho teste para a semana', 'autor': 'atp', 'data de criação': '2023-11-18', 'comentários': 'Eu também... ,autor: fb'}]\n"
     ]
    }
   ],
   "source": [
    "def insPost(redeSocial, conteudo, autor, dataCriacao, comentarios):\n",
    "    nome= \"p\"+str(quantosPost(MyFaceBook)+1)\n",
    "    postagem={\"id\":nome, \"conteudo\": conteudo, \"autor\": autor, \"data de criação\": dataCriacao, \"comentários\":comentarios}\n",
    "    redeSocial.append(postagem)\n",
    "    return redeSocial\n",
    "\n",
    "print(insPost(MyFaceBook, \"Tenho teste para a semana\", \"atp\", \"2023-11-18\",\"Eu também... ,autor: fb\" ))\n",
    "\n",
    "     \n",
    "\n"
   ]
  },
  {
   "cell_type": "markdown",
   "metadata": {},
   "source": [
    "#### e)  `remPost`, que remove um post da rede, correspondente ao `id` recebido."
   ]
  },
  {
   "cell_type": "code",
   "execution_count": 98,
   "metadata": {},
   "outputs": [
    {
     "name": "stdout",
     "output_type": "stream",
     "text": [
      "[{'id': 'p1', 'conteudo': 'A tarefa de avaliação é talvez a mais ingrata das tarefas que um professortem de realizar...', 'autor': 'jcr', 'dataCriacao': '2023-07-20', 'comentarios': [{'comentario': 'Completamente de acordo...', 'autor': 'prh'}, {'comentario': 'Mas há quem goste...', 'autor': 'jj'}]}, {'id': 'p2', 'conteudo': 'A tarefa de avaliação é talvez a mais ingrata das tarefas que um professortem de realizar...', 'autor': 'aa', 'dataCriacao': '2023-07-20', 'comentarios': [{'comentario': 'Conordo...', 'autor': 'jcr'}, {'comentario': 'Mas há quem goste...', 'autor': 'phr'}]}, {'id': 'p3', 'conteudo': 'A tarefa de avaliação é talvez a mais ingrata das tarefas que um professortem de realizar...', 'autor': 'jcr', 'dataCriacao': '2023-07-20', 'comentarios': [{'comentario': 'Completamente de acordo...', 'autor': 'aa'}, {'comentario': 'Há quem goste...', 'autor': 'jj'}]}]\n"
     ]
    }
   ],
   "source": [
    "def remPost(redeSocial, id):\n",
    "    novo=[]\n",
    "    for post in redeSocial:\n",
    "        if post[\"id\"]!=id:\n",
    "            novo.append(post)\n",
    "    return novo\n",
    "print (remPost(MyFaceBook, \"p4\"))\n",
    "    "
   ]
  },
  {
   "cell_type": "markdown",
   "metadata": {},
   "source": [
    "#### f) `postsPorAutor`, que devolve uma distribuição de posts por autor (à semelhança do que foi feito nas aulas)."
   ]
  },
  {
   "cell_type": "code",
   "execution_count": 132,
   "metadata": {},
   "outputs": [
    {
     "name": "stdout",
     "output_type": "stream",
     "text": [
      "[('jcr', {'id': 'p1', 'conteudo': 'A tarefa de avaliação é talvez a mais ingrata das tarefas que um professortem de realizar...', 'autor': 'jcr', 'dataCriacao': '2023-07-20', 'comentarios': [{'comentario': 'Completamente de acordo...', 'autor': 'prh'}, {'comentario': 'Mas há quem goste...', 'autor': 'jj'}]}), ('aa', {'id': 'p2', 'conteudo': 'A tarefa de avaliação é talvez a mais ingrata das tarefas que um professortem de realizar...', 'autor': 'aa', 'dataCriacao': '2023-07-20', 'comentarios': [{'comentario': 'Conordo...', 'autor': 'aa'}, {'comentario': 'Mas há quem goste...', 'autor': 'phr'}]}), ('jcr', {'id': 'p3', 'conteudo': 'A tarefa de avaliação é talvez a mais ingrata das tarefas que um professortem de realizar...', 'autor': 'jcr', 'dataCriacao': '2023-07-20', 'comentarios': [{'comentario': 'Completamente de acordo...', 'autor': 'aa'}, {'comentario': 'Há quem goste...', 'autor': 'jj'}]})]\n"
     ]
    }
   ],
   "source": [
    "def postsPorAutor(redeSocial):\n",
    "    posts=[]\n",
    "    for post in redeSocial:\n",
    "        pp=(post[\"autor\"],post)\n",
    "        posts.append(pp)\n",
    "    return posts\n",
    "\n",
    "print(postsPorAutor(MyFaceBook))"
   ]
  },
  {
   "cell_type": "markdown",
   "metadata": {},
   "source": [
    "#### g) `comentadoPor`, que recebe um autor e devolve a lista de posts comentados por esse autor."
   ]
  },
  {
   "cell_type": "code",
   "execution_count": 142,
   "metadata": {},
   "outputs": [
    {
     "data": {
      "text/plain": [
       "[('jcr',\n",
       "  {'id': 'p2',\n",
       "   'conteudo': 'A tarefa de avaliação é talvez a mais ingrata das tarefas que um professortem de realizar...',\n",
       "   'autor': 'aa',\n",
       "   'dataCriacao': '2023-07-20',\n",
       "   'comentarios': [{'comentario': 'Conordo...', 'autor': 'jcr'},\n",
       "    {'comentario': 'Mas há quem goste...', 'autor': 'phr'}]})]"
      ]
     },
     "execution_count": 142,
     "metadata": {},
     "output_type": "execute_result"
    }
   ],
   "source": [
    "def comentadoPor(redeSocial, autor):\n",
    "    com = []\n",
    "    for post in redeSocial:\n",
    "    \n",
    "        if len(post[\"comentarios\"]) != 0:\n",
    "    \n",
    "            for comentario in post['comentarios']:\n",
    "            \n",
    "                if comentario[\"autor\"] == autor:\n",
    "                    pp=(comentario[\"autor\"],post)\n",
    "                \n",
    "                    com.append(pp)\n",
    "    return com\n",
    "\n",
    "\n",
    "comentadoPor(MyFaceBook,'jcr')"
   ]
  }
 ],
 "metadata": {
  "kernelspec": {
   "display_name": "Python 3",
   "language": "python",
   "name": "python3"
  },
  "language_info": {
   "codemirror_mode": {
    "name": "ipython",
    "version": 3
   },
   "file_extension": ".py",
   "mimetype": "text/x-python",
   "name": "python",
   "nbconvert_exporter": "python",
   "pygments_lexer": "ipython3",
   "version": "3.11.5"
  }
 },
 "nbformat": 4,
 "nbformat_minor": 2
}
